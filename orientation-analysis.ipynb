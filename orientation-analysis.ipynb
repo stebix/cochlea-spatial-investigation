{
 "cells": [
  {
   "cell_type": "markdown",
   "id": "7fda039e",
   "metadata": {},
   "source": [
    "#  Domain Gap Mitigation Strategy\n",
    "\n",
    "### Visualizations for the manuscript\n",
    "\"Towards fully automated Inner Ear Analysis: Deep-Learning-based Joint Segmentation and Landmark Detection Framework\" by Jannik Stebani, martin Blaimer, Simon Zabler, Tilmann Neun, Daniel M. Pelt and Kristen Rak"
   ]
  },
  {
   "cell_type": "markdown",
   "id": "32290511",
   "metadata": {},
   "source": [
    "Code preface - collapse cells."
   ]
  },
  {
   "cell_type": "code",
   "execution_count": 1,
   "id": "584b8536",
   "metadata": {},
   "outputs": [],
   "source": [
    "import sys\n",
    "import json\n",
    "import dataclasses\n",
    "import numpy as np\n",
    "import matplotlib.pyplot as plt\n",
    "%matplotlib widget\n",
    "\n",
    "from pathlib import Path\n",
    "from typing import Iterable, Optional, List\n",
    "from copy import deepcopy\n",
    "from collections import defaultdict\n",
    "\n",
    "import plotly\n",
    "import plotly.graph_objects as go\n",
    "\n",
    "import h5py"
   ]
  },
  {
   "cell_type": "code",
   "execution_count": 2,
   "id": "bd766400",
   "metadata": {},
   "outputs": [],
   "source": [
    "%reload_ext autoreload\n",
    "%autoreload 2"
   ]
  },
  {
   "cell_type": "code",
   "execution_count": 3,
   "id": "6f195881",
   "metadata": {},
   "outputs": [],
   "source": [
    "sys.path.append('C:/Users/Jannik/Desktop/viztools-rewrite/')"
   ]
  },
  {
   "cell_type": "code",
   "execution_count": 4,
   "id": "8c8fdab4",
   "metadata": {},
   "outputs": [],
   "source": [
    "from nettools.pathutils import PathPair, parse_filepath, FilenameParsingError\n",
    "from nettools.loader import Result, peek_dataset, load_autodispatch\n",
    "import nettools.evaluate as nv\n",
    "from nettools.slicedisplay import LabeledSliceDisplay, SliceDisplay\n",
    "from nettools.vectortools import collect_dataset_landmarks\n",
    "from nettools.vector import build_vectors, Vector, as_normalized_origin_vector, angle\n",
    "from nettools.vectorplots import TraceBuilder"
   ]
  },
  {
   "cell_type": "code",
   "execution_count": 5,
   "id": "b3e15bcc",
   "metadata": {},
   "outputs": [],
   "source": [
    "directory_clin = Path('G:/Cochlea/Manual_Segmentations/landmarked_transduced/clinical/')\n",
    "directory_exvo = Path('G:/Cochlea/Manual_Segmentations/landmarked_transduced/exvivo/train/')\n",
    "directory_wim = Path('C:/Users/Jannik/Desktop/wim-transduce/resampled-CT/')\n",
    "directory_sib = Path('G:/Cochlea/dataset_sieber/transduced/')"
   ]
  },
  {
   "cell_type": "code",
   "execution_count": 6,
   "id": "38e6bfb0",
   "metadata": {},
   "outputs": [
    {
     "name": "stderr",
     "output_type": "stream",
     "text": [
      "C:\\Users/Jannik/Desktop/viztools-rewrite\\nettools\\vectortools.py:111: UserWarning: Could not parse item: \"G:\\Cochlea\\dataset_sieber\\transduced\\exportinfo.json\" :: item skipped\n",
      "  warnings.warn(\n"
     ]
    }
   ],
   "source": [
    "clin_dataset_landmarks = collect_dataset_landmarks(directory_clin)\n",
    "exvo_dataset_landmarks = collect_dataset_landmarks(directory_exvo)\n",
    "wim_dataset_landmarks = collect_dataset_landmarks(directory_wim)\n",
    "sib_dataset_landmarks = collect_dataset_landmarks(directory_sib)"
   ]
  },
  {
   "cell_type": "code",
   "execution_count": 12,
   "id": "9ae54425",
   "metadata": {},
   "outputs": [],
   "source": [
    "from collections import defaultdict"
   ]
  },
  {
   "cell_type": "code",
   "execution_count": 76,
   "id": "ea2fad98",
   "metadata": {},
   "outputs": [],
   "source": [
    "def transform_landmarks_datatypes(landmarks: dict[str, list[dict]]) -> dict[str, list[dict]]:\n",
    "    \"\"\"\n",
    "    Transform coordinate arrays and numpy datatypes inside of\n",
    "    landmark specifications  enable JSON serializability.\n",
    "    \"\"\"\n",
    "    transformed = defaultdict(list)\n",
    "    for ID, instance_landmarks in landmarks.items():\n",
    "        transformed_instance_landmarks = []\n",
    "        for landmark in instance_landmarks:\n",
    "            transformed_landmark = {}\n",
    "            for key, value in landmark.items():\n",
    "                if isinstance(value, np.ndarray):\n",
    "                    value = value.tolist()\n",
    "                if isinstance(value, np.int32):\n",
    "                    value = int(value)\n",
    "                transformed_landmark[key] = value\n",
    "            transformed_instance_landmarks.append(transformed_landmark)\n",
    "        transformed[ID].append(transformed_instance_landmarks)\n",
    "    return transformed\n",
    "            "
   ]
  },
  {
   "cell_type": "code",
   "execution_count": 72,
   "id": "f09bac71",
   "metadata": {},
   "outputs": [],
   "source": [
    "cd = transform_landmarks_arrays(clin_dataset_landmarks)"
   ]
  },
  {
   "cell_type": "code",
   "execution_count": 73,
   "id": "f188488d",
   "metadata": {},
   "outputs": [],
   "source": [
    "cld = deepcopy(clin_dataset_landmarks)"
   ]
  },
  {
   "cell_type": "code",
   "execution_count": 74,
   "id": "8f23975e",
   "metadata": {},
   "outputs": [],
   "source": [
    "def export(data: dict, directory: Path, name: str) -> None:\n",
    "    if not name.endswith('.json'):\n",
    "        name = '.'.join((name, 'json'))\n",
    "    path = directory / name\n",
    "    # do not overwrite\n",
    "    with path.open(mode='w') as outfile:\n",
    "        json.dump(data, outfile, indent=4)"
   ]
  },
  {
   "cell_type": "code",
   "execution_count": 75,
   "id": "53b95b1c",
   "metadata": {},
   "outputs": [],
   "source": [
    "directory = Path('C:/Users/Jannik/Desktop/cochlea-spatial-investigation/data/')"
   ]
  },
  {
   "cell_type": "code",
   "execution_count": 78,
   "id": "b925c0cb",
   "metadata": {},
   "outputs": [],
   "source": [
    "landmarks_cache = {\n",
    "    'spatialdata-B.json' : clin_dataset_landmarks,\n",
    "    'spatialdata-A.json' : exvo_dataset_landmarks,\n",
    "    'spatialdata-W.json' : wim_dataset_landmarks,\n",
    "    'spatialdata-O.json' : sib_dataset_landmarks\n",
    "}\n",
    "\n",
    "for name, landmarkdata in landmarks_cache.items():\n",
    "    landmarkdata = transform_landmarks_datatypes(landmarkdata)\n",
    "    export(landmarkdata, directory, name)"
   ]
  },
  {
   "cell_type": "code",
   "execution_count": null,
   "id": "e69389cb",
   "metadata": {},
   "outputs": [],
   "source": [
    "vectors_clin = build_vectors(clin_dataset_landmarks, 'RoundWindow', 'CochleaTop')\n",
    "vectors_exvo = build_vectors(exvo_dataset_landmarks, 'RoundWindow', 'CochleaTop')\n",
    "vectors_wim = build_vectors(wim_dataset_landmarks, 'RoundWindow', 'CochleaTop')\n",
    "vectors_sib = build_vectors(sib_dataset_landmarks, 'RoundWindow', 'CochleaTop')"
   ]
  },
  {
   "cell_type": "markdown",
   "id": "380eaa21",
   "metadata": {},
   "source": [
    "# Domain Gap Mitigation Strategy\n",
    "\n",
    "## Spatial Orientation Analysis"
   ]
  },
  {
   "cell_type": "markdown",
   "id": "ad85681d",
   "metadata": {},
   "source": [
    "For our domain gap investigation and subsequent mitigation strategy, we used the test-time augmentation framework to gain insights about the performance dropoff observed for some instances of the open source datasets. Using a wide array of test time augmentations, we observed a performance increase for certain rotation states of the input datasets.\n",
    "\n",
    "To quantify the rotation state of a certain dataset instance, we compute the vector pointing from the round window landmark annotation towards the apex of the cochlea (internally called 'CochleaTop').\n",
    "An example illustrative rendering for this vector is given below. We utilize the $\\mathrm{IJK}$ voxel coordinate system for this task. "
   ]
  },
  {
   "attachments": {},
   "cell_type": "markdown",
   "id": "09c2111f",
   "metadata": {},
   "source": []
  },
  {
   "cell_type": "code",
   "execution_count": null,
   "id": "d39632b8",
   "metadata": {},
   "outputs": [],
   "source": [
    "e_K = Vector(dataset_ID='KAXIS', base_landmark_label='ORIGIN', terminal_landmark_label='KDIR',\n",
    "            base=np.array((0,0,0)), terminal=np.array((0,0,1)), shape=np.array((100, 100, 100)))"
   ]
  },
  {
   "cell_type": "markdown",
   "id": "12db4141",
   "metadata": {},
   "source": [
    "#### Angles for K-axis\n",
    "\n",
    "We can calculate this parameter and take a look at the angles, that the RoundWindow->Apex vectors enclose with the $\\mathrm{K}$-axis of the voxel cooridnate system."
   ]
  },
  {
   "cell_type": "code",
   "execution_count": null,
   "id": "5a99f4d6",
   "metadata": {},
   "outputs": [],
   "source": [
    "exvo_angles = [angle(e_K, v) for v in vectors_exvo]\n",
    "clin_angles = [angle(e_K, v) for v in vectors_clin]\n",
    "wim_angles = [angle(e_K, v) for v in vectors_wim]\n",
    "sib_angles = [angle(e_K, v) for v in vectors_sib]"
   ]
  },
  {
   "cell_type": "markdown",
   "id": "cd6c2791",
   "metadata": {},
   "source": [
    "We observe that the instances of Datasets A and B all lie within a defined band of angles. Instances from dataset W and O have no such angle distribution. "
   ]
  },
  {
   "cell_type": "code",
   "execution_count": null,
   "id": "0370f1d5",
   "metadata": {},
   "outputs": [],
   "source": [
    "fig, ax = plt.subplots()\n",
    "ax.plot(exvo_angles, marker='x', ls='', label='A (exvivo)', color='tab:blue')\n",
    "ax.plot(clin_angles, marker='x', ls='', label='B (clinical)', color='tab:green')\n",
    "\n",
    "ax.plot(wim_angles, marker='x', ls='', label='W (Wimmer et al.)', color='tab:red')\n",
    "ax.plot(sib_angles, marker='x', ls='', label='O (Sieber et al.)', color='tab:orange')\n",
    "\n",
    "ax.set(xlabel='Dataset Index', ylabel='Angle $\\mathrm{K}$ axis')\n",
    "ax.set_title('Angle distribution of entire dataset corpus')\n",
    "ax.legend()"
   ]
  },
  {
   "cell_type": "markdown",
   "id": "3431e127",
   "metadata": {},
   "source": [
    "We can further normalize of the vectors by scaling the components with the $L_2$ norm of the vector. This is performed in the cell below. The next step in the analysis is the computation of a mean orientation vector that indicates any preferential directions present in the datasets."
   ]
  },
  {
   "cell_type": "code",
   "execution_count": null,
   "id": "0ea41c07",
   "metadata": {},
   "outputs": [],
   "source": [
    "nvectors_clin = [as_normalized_origin_vector(v) for v in vectors_clin]\n",
    "nvectors_exvo = [as_normalized_origin_vector(v) for v in vectors_exvo]\n",
    "nvectors_wim = [as_normalized_origin_vector(v) for v in vectors_wim]\n",
    "nvectors_sib = [as_normalized_origin_vector(v) for v in vectors_sib]"
   ]
  },
  {
   "cell_type": "code",
   "execution_count": null,
   "id": "7303a126",
   "metadata": {},
   "outputs": [],
   "source": [
    "nvzip = zip(\n",
    "    ['exvivo', 'clinical', 'wimmer', 'sieber'],\n",
    "    [nvectors_exvo, nvectors_clin, nvectors_wim, nvectors_sib]\n",
    ")\n",
    "mean_str = ''\n",
    "for name, vectorset in nvzip:\n",
    "    mean = np.zeros(3)\n",
    "    for v in vectorset:\n",
    "        mean += v.delta\n",
    "    mean /= len(vectorset)\n",
    "    mean_str += f'v_{name}_mean = {mean}\\n'\n",
    "print(mean_str)"
   ]
  },
  {
   "cell_type": "markdown",
   "id": "1cc4bef0",
   "metadata": {},
   "source": [
    "The values given above show that datasets A and B possess a large component along the second $\\mathrm{J}$ axis pointing in negative direction.\n",
    "This is in accordance with standard operating procedure in clinical practice.\n",
    " - The dataset W by Wimmer et al. has its largest component along the first $\\mathrm{I}$ axis.\n",
    " - The dataset O by Sieber et al. has its largest component along the trailing $\\mathrm{K}$ axis."
   ]
  },
  {
   "cell_type": "markdown",
   "id": "f849e8ca",
   "metadata": {},
   "source": [
    "#### 3D Visualization\n",
    "\n",
    "Having observed this, we proceed to 3D visualizations of the phenomenon."
   ]
  },
  {
   "cell_type": "code",
   "execution_count": null,
   "id": "2c25a22c",
   "metadata": {},
   "outputs": [],
   "source": [
    "tb = TraceBuilder()\n",
    "tb.tip_fraction = 0.9\n",
    "tb.start_fraction = 0.98"
   ]
  },
  {
   "cell_type": "markdown",
   "id": "4124c89d",
   "metadata": {},
   "source": [
    "Normalized vector traces"
   ]
  },
  {
   "cell_type": "code",
   "execution_count": null,
   "id": "3d2b7355",
   "metadata": {},
   "outputs": [],
   "source": [
    "tb.line_color = 'blue'\n",
    "vectortraces_clin = tb.from_vectors(nvectors_clin)\n",
    "tb.line_color = 'green'\n",
    "vectortraces_exvo = tb.from_vectors(nvectors_exvo)\n",
    "tb.line_color = 'red'\n",
    "vectortraces_wim = tb.from_vectors(nvectors_wim)\n",
    "tb.line_color = 'yellow'\n",
    "vectortraces_sib = tb.from_vectors(nvectors_sib)"
   ]
  },
  {
   "cell_type": "markdown",
   "id": "7c83008a",
   "metadata": {},
   "source": [
    "Raw vector traces"
   ]
  },
  {
   "cell_type": "code",
   "execution_count": null,
   "id": "64862ed3",
   "metadata": {},
   "outputs": [],
   "source": [
    "vectors_sib"
   ]
  },
  {
   "cell_type": "code",
   "execution_count": null,
   "id": "45a97032",
   "metadata": {},
   "outputs": [],
   "source": [
    "tb.line_color = 'blue'\n",
    "raw_vectortraces_clin = tb.from_vectors(vectors_clin)\n",
    "tb.line_color = 'green'\n",
    "raw_vectortraces_exvo = tb.from_vectors(vectors_exvo)\n",
    "tb.line_color = 'red'\n",
    "raw_vectortraces_wim = tb.from_vectors(vectors_wim)\n",
    "tb.line_color = 'yellow'\n",
    "raw_vectortraces_sib = tb.from_vectors(vectors_sib)"
   ]
  },
  {
   "cell_type": "code",
   "execution_count": null,
   "id": "e3d8e26f",
   "metadata": {},
   "outputs": [],
   "source": [
    "global_layout_kwargs = {\n",
    "    'legend_title_text' : 'Dataset Instance ID',\n",
    "    'scene' :  dict(xaxis_title='I axis', yaxis_title='J axis', zaxis_title='K axis')\n",
    "}"
   ]
  },
  {
   "cell_type": "code",
   "execution_count": null,
   "id": "12c9aac4",
   "metadata": {},
   "outputs": [],
   "source": [
    "fig = go.Figure()\n",
    "\n",
    "fig.add_traces(raw_vectortraces_clin)\n",
    "fig.add_traces(raw_vectortraces_exvo)\n",
    "fig.update_layout(\n",
    "    title='Raw IJK space Vector Plot: In-House datasets',\n",
    "    **global_layout_kwargs\n",
    ")\n",
    "\n",
    "fig.show()"
   ]
  },
  {
   "cell_type": "code",
   "execution_count": null,
   "id": "425114e7",
   "metadata": {},
   "outputs": [],
   "source": []
  },
  {
   "cell_type": "code",
   "execution_count": null,
   "id": "215357a1",
   "metadata": {},
   "outputs": [],
   "source": [
    "fig = go.Figure()\n",
    "\n",
    "fig.add_traces(vectortraces_clin)\n",
    "fig.add_traces(vectortraces_exvo)\n",
    "fig.update_layout(\n",
    "    title='Normalized Origin Vector Plot: In-House Datasets',\n",
    "    **global_layout_kwargs\n",
    ")\n",
    "\n",
    "fig.show()"
   ]
  },
  {
   "cell_type": "markdown",
   "id": "82ae242b",
   "metadata": {},
   "source": [
    "We observe that the trainining and validation data instances (Dataset **A**, $N_{\\mathrm{train}}=44$ and $N_{\\mathrm{validation}}=5$, exvivo scans of cadaveric specimen) in blue and the test data instances in blue (Dataset **B**, $N_{\\mathrm{test}}=10$) possess a preferential orientation in $\\mathrm{IJK}$ voxel space.\n",
    "This precipitates in the mean orientation vector that we calculated for both the datasets:\n",
    "$$\\langle \\mathbf{v}_{\\mathrm{A}}\\rangle = (0.07166, -0.94792,  0.00671)^{\\mathrm{T}}$$\n",
    "$$\\langle \\mathbf{v}_{\\mathrm{B}}\\rangle = (-0.03682, -0.90414,  0.23284)^{\\mathrm{T}}$$\n",
    "The large component along the $\\mathrm{J}$ axis encodes this observation quantitatively.\n",
    "The consistent orientation of the inner ear anatomy in the datasets is in accordance with standard operatain procedure in clinical practice, where patients are placed in the scanner apparatus under the guidance of a domain expert.\n",
    "Note that two dataset instances from Dataset **A** (instance ID 17 and 18) have differing angle orientation that falls outside of the described cone. "
   ]
  },
  {
   "cell_type": "markdown",
   "id": "470dbaa1",
   "metadata": {},
   "source": [
    "We can further compute the angle between the vectors of instance '10_AV' and instance '04_BB' to get an estimate for the opening angle of the cone"
   ]
  },
  {
   "cell_type": "code",
   "execution_count": null,
   "id": "b682293b",
   "metadata": {},
   "outputs": [],
   "source": [
    "AV10 = list(filter(lambda v: v.dataset_ID == '10_AV', vectors_clin))[0]\n",
    "BB04 = list(filter(lambda v: v.dataset_ID == '04_BB', vectors_clin))[0]\n",
    "                                                                    \n",
    "(AV10, BB04)"
   ]
  },
  {
   "cell_type": "code",
   "execution_count": null,
   "id": "fdf17a6d",
   "metadata": {},
   "outputs": [],
   "source": [
    "angle(AV10, BB04)"
   ]
  },
  {
   "cell_type": "markdown",
   "id": "a0fcaa5e",
   "metadata": {},
   "source": [
    "We observe that the opening angle of the cone defined by the standard operating procedure in clinical practice is approximately $\\theta_{o}\\approx 60 ^{\\circ}$"
   ]
  },
  {
   "cell_type": "code",
   "execution_count": null,
   "id": "b9c99e69",
   "metadata": {},
   "outputs": [],
   "source": [
    "fig = go.Figure()\n",
    "\n",
    "fig.add_traces(raw_vectortraces_wim)\n",
    "fig.add_traces(raw_vectortraces_sib)\n",
    "\n",
    "fig.update_layout(\n",
    "    title='Raw IJK Space Vector Plot: Open Source Datasets',\n",
    "    **global_layout_kwargs\n",
    ")\n",
    "\n",
    "fig.show()"
   ]
  },
  {
   "cell_type": "code",
   "execution_count": 79,
   "id": "7545816e",
   "metadata": {},
   "outputs": [
    {
     "ename": "NameError",
     "evalue": "name 'vectortraces_wim' is not defined",
     "output_type": "error",
     "traceback": [
      "\u001b[1;31m---------------------------------------------------------------------------\u001b[0m",
      "\u001b[1;31mNameError\u001b[0m                                 Traceback (most recent call last)",
      "Input \u001b[1;32mIn [79]\u001b[0m, in \u001b[0;36m<cell line: 3>\u001b[1;34m()\u001b[0m\n\u001b[0;32m      1\u001b[0m fig \u001b[38;5;241m=\u001b[39m go\u001b[38;5;241m.\u001b[39mFigure()\n\u001b[1;32m----> 3\u001b[0m fig\u001b[38;5;241m.\u001b[39madd_traces(\u001b[43mvectortraces_wim\u001b[49m)\n\u001b[0;32m      4\u001b[0m fig\u001b[38;5;241m.\u001b[39madd_traces(vectortraces_sib)\n\u001b[0;32m      6\u001b[0m fig\u001b[38;5;241m.\u001b[39mupdate_layout(\n\u001b[0;32m      7\u001b[0m     title\u001b[38;5;241m=\u001b[39m\u001b[38;5;124m'\u001b[39m\u001b[38;5;124mNormalized Origin Vector Plot: Open Source Datasets\u001b[39m\u001b[38;5;124m'\u001b[39m,\n\u001b[0;32m      8\u001b[0m     \u001b[38;5;241m*\u001b[39m\u001b[38;5;241m*\u001b[39mglobal_layout_kwargs\n\u001b[0;32m      9\u001b[0m )\n",
      "\u001b[1;31mNameError\u001b[0m: name 'vectortraces_wim' is not defined"
     ]
    }
   ],
   "source": [
    "fig = go.Figure()\n",
    "\n",
    "fig.add_traces(vectortraces_wim)\n",
    "fig.add_traces(vectortraces_sib)\n",
    "\n",
    "fig.update_layout(\n",
    "    title='Normalized Origin Vector Plot: Open Source Datasets',\n",
    "    **global_layout_kwargs\n",
    ")\n",
    "\n",
    "fig.show()"
   ]
  },
  {
   "cell_type": "code",
   "execution_count": null,
   "id": "679fba66",
   "metadata": {},
   "outputs": [],
   "source": []
  }
 ],
 "metadata": {
  "kernelspec": {
   "display_name": "Python 3 (ipykernel)",
   "language": "python",
   "name": "python3"
  },
  "language_info": {
   "codemirror_mode": {
    "name": "ipython",
    "version": 3
   },
   "file_extension": ".py",
   "mimetype": "text/x-python",
   "name": "python",
   "nbconvert_exporter": "python",
   "pygments_lexer": "ipython3",
   "version": "3.10.6"
  }
 },
 "nbformat": 4,
 "nbformat_minor": 5
}
